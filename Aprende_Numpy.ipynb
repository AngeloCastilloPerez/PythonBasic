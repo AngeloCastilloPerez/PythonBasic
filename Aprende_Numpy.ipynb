{
  "cells": [
    {
      "cell_type": "markdown",
      "metadata": {
        "id": "view-in-github",
        "colab_type": "text"
      },
      "source": [
        "<a href=\"https://colab.research.google.com/github/AngeloCastilloPerez/PythonBasic/blob/main/Aprende_Numpy.ipynb\" target=\"_parent\"><img src=\"https://colab.research.google.com/assets/colab-badge.svg\" alt=\"Open In Colab\"/></a>"
      ]
    },
    {
      "cell_type": "markdown",
      "metadata": {
        "id": "MuYB4pE_viZG"
      },
      "source": [
        "# Hola soy Angelo Castillo 😄, te felicito por querer aprender Python y sus librerías, espero te sirva la siguiente información:\n",
        "\n",
        "# Práctica de la librería Numpy\n",
        "\n",
        "En este notebook, se desarrollarán una serie de tareas utilizando la librería Numpy (Numerical Python).\n",
        "\n",
        "Se proponen y documentan posibles formas de resolver los ejercicios, pero las mismas no son únicas.\n",
        "\n",
        "Siempre es una buena idea verificar la [Documentación Oficial de Numpy](https://numpy.org/devdocs/user/index.html), donde es posible encontrar todo tipo de información referida a esta librería. Y si te quedas trabado, busca en Google \"como hacer [algo] con Numpy\". Hay enormes probabilidades de que esa pregunta ya haya sido respondida!"
      ]
    },
    {
      "cell_type": "markdown",
      "metadata": {
        "id": "y3ymaP9s9_Gn"
      },
      "source": [
        "### Características básicas de ndarray\n",
        "\n",
        "<ul>\n",
        "<li>Un ndarray puede contener elementos de <b>CUALQUIER TIPO</b></li>\n",
        "<li>Todos los elementos de un ndarray deben tener <b>EL MISMO TIPO</b>.</li>\n",
        "<li>El tamaño de un ndarray (número de elementos) se define en el momento de la creación y no puede modificarse.</li>\n",
        "<li>Pero la organización de esos elementos entre diferentes dimensiones sí puede modificarse</li>\n",
        "</ul>"
      ]
    },
    {
      "cell_type": "code",
      "execution_count": null,
      "metadata": {
        "id": "Hrz__kvsviZL"
      },
      "outputs": [],
      "source": [
        "# Importamos Numpy con su abreviación \"np\"\n",
        "import numpy as np"
      ]
    },
    {
      "cell_type": "code",
      "execution_count": null,
      "metadata": {
        "id": "9fwuO-3_viZM"
      },
      "outputs": [],
      "source": [
        "# Podemos crear arrays de una dimensión con la función np.array()\n",
        "array_unidim = np.array([1,2,3,4,5])\n",
        "\n",
        "# O un array de dos dimensiones (bidimensional)\n",
        "array_bidim = np.array([[1,2,3],[4,5,6]])\n",
        "\n",
        "# O un array de tres dimensiones (tridimensional)\n",
        "array_tridim = np.array([[[1,2,3],[4,5,6]],[[7,8,9],[10,11,12]]])\n"
      ]
    },
    {
      "cell_type": "markdown",
      "metadata": {
        "id": "qp2_ZpJXviZN"
      },
      "source": [
        "Para cada uno de estos arrays, podemos obtener sus propiedades, tales como su \"forma\", número de dimensiones, tipos de datos y tamaño."
      ]
    },
    {
      "cell_type": "markdown",
      "metadata": {
        "id": "WELk09PE9_Go"
      },
      "source": [
        "<ul>\n",
        "<li><b>dtype</b>: Tipo del contenido del ndarray.</li>\n",
        "<li><b>ndim</b>: Número de dimensiones/ejes del ndarray.</li>\n",
        "<li><b>shape</b>: Estructura/forma del ndarray, es decir, número de elementos en cada uno de los ejes/dimensiones.</li>\n",
        "<li><b>size</b>: Número total de elementos en el ndarray.</li>\n",
        "</ul>"
      ]
    },
    {
      "cell_type": "code",
      "execution_count": null,
      "metadata": {
        "colab": {
          "base_uri": "https://localhost:8080/"
        },
        "id": "m2HD8334viZN",
        "outputId": "c39f4c57-8e52-47c2-983b-399c9c26ceb9"
      },
      "outputs": [
        {
          "data": {
            "text/plain": [
              "((5,), 1, dtype('int64'), 5, numpy.ndarray)"
            ]
          },
          "execution_count": 7,
          "metadata": {},
          "output_type": "execute_result"
        }
      ],
      "source": [
        "# Atributos del array unidimensional (forma, número de dimensiones, tipos de datos, tamaño, y tipo)\n",
        "array_unidim.shape, array_unidim.ndim,  array_unidim.dtype, array_unidim.size, type(array_unidim)"
      ]
    },
    {
      "cell_type": "code",
      "execution_count": null,
      "metadata": {
        "colab": {
          "base_uri": "https://localhost:8080/"
        },
        "id": "CW6dU4z6viZO",
        "outputId": "66df382d-74bc-4174-e22b-77b611497f7b"
      },
      "outputs": [
        {
          "data": {
            "text/plain": [
              "((2, 3), 2, dtype('int64'), 6, numpy.ndarray)"
            ]
          },
          "execution_count": 8,
          "metadata": {},
          "output_type": "execute_result"
        }
      ],
      "source": [
        "# Atributos del array bidimensional\n",
        "array_bidim.shape, array_bidim.ndim,  array_bidim.dtype, array_bidim.size, type(array_bidim)"
      ]
    },
    {
      "cell_type": "code",
      "execution_count": null,
      "metadata": {
        "colab": {
          "base_uri": "https://localhost:8080/"
        },
        "id": "2dQw-98tviZP",
        "outputId": "5f1f795c-6d06-4c3f-fa6f-b6b6b5080841"
      },
      "outputs": [
        {
          "data": {
            "text/plain": [
              "((2, 2, 3), 3, dtype('int64'), 12, numpy.ndarray)"
            ]
          },
          "execution_count": 11,
          "metadata": {},
          "output_type": "execute_result"
        }
      ],
      "source": [
        "# Atributos del array tridimensional\n",
        "array_tridim.shape, array_tridim.ndim,  array_tridim.dtype, array_tridim.size, type(array_tridim)"
      ]
    },
    {
      "cell_type": "code",
      "execution_count": null,
      "metadata": {
        "colab": {
          "base_uri": "https://localhost:8080/",
          "height": 149
        },
        "id": "bqWXuSpEviZQ",
        "outputId": "9a012067-8a63-4771-fc2a-d8f422cf96de"
      },
      "outputs": [
        {
          "data": {
            "text/html": [
              "\n",
              "  <div id=\"df-c1492954-6481-44d8-a207-4f887766f67b\">\n",
              "    <div class=\"colab-df-container\">\n",
              "      <div>\n",
              "<style scoped>\n",
              "    .dataframe tbody tr th:only-of-type {\n",
              "        vertical-align: middle;\n",
              "    }\n",
              "\n",
              "    .dataframe tbody tr th {\n",
              "        vertical-align: top;\n",
              "    }\n",
              "\n",
              "    .dataframe thead th {\n",
              "        text-align: right;\n",
              "    }\n",
              "</style>\n",
              "<table border=\"1\" class=\"dataframe\">\n",
              "  <thead>\n",
              "    <tr style=\"text-align: right;\">\n",
              "      <th></th>\n",
              "      <th>0</th>\n",
              "      <th>1</th>\n",
              "      <th>2</th>\n",
              "    </tr>\n",
              "  </thead>\n",
              "  <tbody>\n",
              "    <tr>\n",
              "      <th>0</th>\n",
              "      <td>1</td>\n",
              "      <td>2</td>\n",
              "      <td>3</td>\n",
              "    </tr>\n",
              "    <tr>\n",
              "      <th>1</th>\n",
              "      <td>4</td>\n",
              "      <td>5</td>\n",
              "      <td>6</td>\n",
              "    </tr>\n",
              "  </tbody>\n",
              "</table>\n",
              "</div>\n",
              "      <button class=\"colab-df-convert\" onclick=\"convertToInteractive('df-c1492954-6481-44d8-a207-4f887766f67b')\"\n",
              "              title=\"Convert this dataframe to an interactive table.\"\n",
              "              style=\"display:none;\">\n",
              "        \n",
              "  <svg xmlns=\"http://www.w3.org/2000/svg\" height=\"24px\"viewBox=\"0 0 24 24\"\n",
              "       width=\"24px\">\n",
              "    <path d=\"M0 0h24v24H0V0z\" fill=\"none\"/>\n",
              "    <path d=\"M18.56 5.44l.94 2.06.94-2.06 2.06-.94-2.06-.94-.94-2.06-.94 2.06-2.06.94zm-11 1L8.5 8.5l.94-2.06 2.06-.94-2.06-.94L8.5 2.5l-.94 2.06-2.06.94zm10 10l.94 2.06.94-2.06 2.06-.94-2.06-.94-.94-2.06-.94 2.06-2.06.94z\"/><path d=\"M17.41 7.96l-1.37-1.37c-.4-.4-.92-.59-1.43-.59-.52 0-1.04.2-1.43.59L10.3 9.45l-7.72 7.72c-.78.78-.78 2.05 0 2.83L4 21.41c.39.39.9.59 1.41.59.51 0 1.02-.2 1.41-.59l7.78-7.78 2.81-2.81c.8-.78.8-2.07 0-2.86zM5.41 20L4 18.59l7.72-7.72 1.47 1.35L5.41 20z\"/>\n",
              "  </svg>\n",
              "      </button>\n",
              "      \n",
              "  <style>\n",
              "    .colab-df-container {\n",
              "      display:flex;\n",
              "      flex-wrap:wrap;\n",
              "      gap: 12px;\n",
              "    }\n",
              "\n",
              "    .colab-df-convert {\n",
              "      background-color: #E8F0FE;\n",
              "      border: none;\n",
              "      border-radius: 50%;\n",
              "      cursor: pointer;\n",
              "      display: none;\n",
              "      fill: #1967D2;\n",
              "      height: 32px;\n",
              "      padding: 0 0 0 0;\n",
              "      width: 32px;\n",
              "    }\n",
              "\n",
              "    .colab-df-convert:hover {\n",
              "      background-color: #E2EBFA;\n",
              "      box-shadow: 0px 1px 2px rgba(60, 64, 67, 0.3), 0px 1px 3px 1px rgba(60, 64, 67, 0.15);\n",
              "      fill: #174EA6;\n",
              "    }\n",
              "\n",
              "    [theme=dark] .colab-df-convert {\n",
              "      background-color: #3B4455;\n",
              "      fill: #D2E3FC;\n",
              "    }\n",
              "\n",
              "    [theme=dark] .colab-df-convert:hover {\n",
              "      background-color: #434B5C;\n",
              "      box-shadow: 0px 1px 3px 1px rgba(0, 0, 0, 0.15);\n",
              "      filter: drop-shadow(0px 1px 2px rgba(0, 0, 0, 0.3));\n",
              "      fill: #FFFFFF;\n",
              "    }\n",
              "  </style>\n",
              "\n",
              "      <script>\n",
              "        const buttonEl =\n",
              "          document.querySelector('#df-c1492954-6481-44d8-a207-4f887766f67b button.colab-df-convert');\n",
              "        buttonEl.style.display =\n",
              "          google.colab.kernel.accessAllowed ? 'block' : 'none';\n",
              "\n",
              "        async function convertToInteractive(key) {\n",
              "          const element = document.querySelector('#df-c1492954-6481-44d8-a207-4f887766f67b');\n",
              "          const dataTable =\n",
              "            await google.colab.kernel.invokeFunction('convertToInteractive',\n",
              "                                                     [key], {});\n",
              "          if (!dataTable) return;\n",
              "\n",
              "          const docLinkHtml = 'Like what you see? Visit the ' +\n",
              "            '<a target=\"_blank\" href=https://colab.research.google.com/notebooks/data_table.ipynb>data table notebook</a>'\n",
              "            + ' to learn more about interactive tables.';\n",
              "          element.innerHTML = '';\n",
              "          dataTable['output_type'] = 'display_data';\n",
              "          await google.colab.output.renderOutput(dataTable, element);\n",
              "          const docLink = document.createElement('div');\n",
              "          docLink.innerHTML = docLinkHtml;\n",
              "          element.appendChild(docLink);\n",
              "        }\n",
              "      </script>\n",
              "    </div>\n",
              "  </div>\n",
              "  "
            ],
            "text/plain": [
              "   0  1  2\n",
              "0  1  2  3\n",
              "1  4  5  6"
            ]
          },
          "execution_count": 15,
          "metadata": {},
          "output_type": "execute_result"
        }
      ],
      "source": [
        "# Importamos pandas como pd, y creamos un DataFrame a partir del array bidimensional\n",
        "import pandas as pd\n",
        "\n",
        "datos = pd.DataFrame(array_bidim)\n",
        "datos"
      ]
    },
    {
      "cell_type": "code",
      "execution_count": null,
      "metadata": {
        "colab": {
          "base_uri": "https://localhost:8080/"
        },
        "id": "uxuBbWJlviZQ",
        "outputId": "aac32aae-7010-43df-fb98-a0b28d0e5502"
      },
      "outputs": [
        {
          "data": {
            "text/plain": [
              "array([[1., 1., 1.],\n",
              "       [1., 1., 1.],\n",
              "       [1., 1., 1.],\n",
              "       [1., 1., 1.]])"
            ]
          },
          "execution_count": 16,
          "metadata": {},
          "output_type": "execute_result"
        }
      ],
      "source": [
        "# Creamos un array de tamaño 4x3, formado únicamente por unos (1)\n",
        "unos = np.ones((4,3))\n",
        "unos"
      ]
    },
    {
      "cell_type": "code",
      "execution_count": null,
      "metadata": {
        "colab": {
          "base_uri": "https://localhost:8080/"
        },
        "id": "lf4ntwB-viZR",
        "outputId": "4007aa44-68d8-4067-fb7c-80b71ae7a0e3"
      },
      "outputs": [
        {
          "data": {
            "text/plain": [
              "array([[[0., 0., 0.],\n",
              "        [0., 0., 0.],\n",
              "        [0., 0., 0.],\n",
              "        [0., 0., 0.]],\n",
              "\n",
              "       [[0., 0., 0.],\n",
              "        [0., 0., 0.],\n",
              "        [0., 0., 0.],\n",
              "        [0., 0., 0.]]])"
            ]
          },
          "execution_count": 17,
          "metadata": {},
          "output_type": "execute_result"
        }
      ],
      "source": [
        "# Creamos un array de tamaño 2x4x3, formado únicamente por ceros (0)\n",
        "cero = np.zeros((2,4,3))\n",
        "cero\n"
      ]
    },
    {
      "cell_type": "code",
      "execution_count": null,
      "metadata": {
        "id": "6S_rJJPk9_Gr"
      },
      "outputs": [],
      "source": [
        "# Un parámetro: desde 0 (incluido) hasta el valor indicado (no incluido)\n",
        "array_secuencia_1 = np.arange(10)\n",
        "array_secuencia_1\n"
      ]
    },
    {
      "cell_type": "code",
      "execution_count": null,
      "metadata": {
        "id": "L_CCa60X9_Gr"
      },
      "outputs": [],
      "source": [
        "# Dos parámetros: desde el primer valor (incluido) hasta el segundo valor (no incluido)\n",
        "array_secuencia_2 = np.arange(5, 10)\n",
        "array_secuencia_2\n"
      ]
    },
    {
      "cell_type": "code",
      "execution_count": null,
      "metadata": {
        "id": "sYZdjBZp9_Gr"
      },
      "outputs": [],
      "source": [
        "# Tres parámetros: desde el primer valor (incluido) hasta el segundo (no incluido) con saltos del tercer valor\n",
        "array_secuencia_3 = np.arange(5, 20, 2)\n",
        "array_secuencia_3\n"
      ]
    },
    {
      "cell_type": "code",
      "execution_count": null,
      "metadata": {
        "colab": {
          "base_uri": "https://localhost:8080/"
        },
        "id": "HSJS5vPvviZS",
        "outputId": "5182ac8a-318f-4f51-911d-0f78857319e3"
      },
      "outputs": [
        {
          "data": {
            "text/plain": [
              "array([  0,   5,  10,  15,  20,  25,  30,  35,  40,  45,  50,  55,  60,\n",
              "        65,  70,  75,  80,  85,  90,  95, 100])"
            ]
          },
          "execution_count": 18,
          "metadata": {},
          "output_type": "execute_result"
        }
      ],
      "source": [
        "# Creamos un array de números en el rango de 0 a 100, con un paso de 5\n",
        "array_1 = np.arange(0,101,5)\n",
        "array_1"
      ]
    },
    {
      "cell_type": "code",
      "execution_count": null,
      "metadata": {
        "colab": {
          "base_uri": "https://localhost:8080/"
        },
        "id": "IuSvyty3viZT",
        "outputId": "df2dc940-8940-4e33-fb74-37cefb2143b2"
      },
      "outputs": [
        {
          "data": {
            "text/plain": [
              "array([[7, 6, 5, 1, 7],\n",
              "       [4, 1, 8, 2, 8]])"
            ]
          },
          "execution_count": 20,
          "metadata": {},
          "output_type": "execute_result"
        }
      ],
      "source": [
        "# Creamos un array de números aleatorios enteros comprendidos en entre 0 y 10, de tamaño (2, 5)\n",
        "array_2 = np.random.randint(0,10,(2,5))\n",
        "array_2"
      ]
    },
    {
      "cell_type": "code",
      "execution_count": null,
      "metadata": {
        "colab": {
          "base_uri": "https://localhost:8080/"
        },
        "id": "grncP2mwviZT",
        "outputId": "d5a65fa7-b86b-48d2-a342-dd3ef4354e10"
      },
      "outputs": [
        {
          "data": {
            "text/plain": [
              "array([[0.16359775, 0.69563453, 0.06589294, 0.34573   , 0.82009529],\n",
              "       [0.81023312, 0.66654179, 0.04700611, 0.33322046, 0.76741871],\n",
              "       [0.58703759, 0.65472238, 0.00512644, 0.99172445, 0.57011526]])"
            ]
          },
          "execution_count": 22,
          "metadata": {},
          "output_type": "execute_result"
        }
      ],
      "source": [
        "# Creamos un array de números aleatorios decimales comprendidos en entre 0 y 1, de tamaño (3, 5)\n",
        "array_3 = np.random.random((3,5))\n",
        "array_3"
      ]
    },
    {
      "cell_type": "code",
      "execution_count": null,
      "metadata": {
        "colab": {
          "base_uri": "https://localhost:8080/"
        },
        "id": "8pCexJ6zviZT",
        "outputId": "3856ce93-28d4-4502-8e59-d0acbb2455eb"
      },
      "outputs": [
        {
          "data": {
            "text/plain": [
              "array([[3, 8, 8, 8, 0],\n",
              "       [5, 8, 9, 1, 2],\n",
              "       [1, 1, 4, 6, 3]])"
            ]
          },
          "execution_count": 23,
          "metadata": {},
          "output_type": "execute_result"
        }
      ],
      "source": [
        "# Establecemos la \"semilla\" de números aleatorios en 27\n",
        "np.random.seed(27)\n",
        "\n",
        "\n",
        "# Creamos un array de números aleatorios enteros comprendidos en entre 0 y 10, de tamaño (3, 5)\n",
        "array_4 = np.random.randint(0,10,(3,5))\n",
        "array_4"
      ]
    },
    {
      "cell_type": "markdown",
      "metadata": {
        "id": "N41yqfNDviZU"
      },
      "source": [
        "¿Qué ocurre al correr la última celda nuevamente, a diferencia de las anteriores?"
      ]
    },
    {
      "cell_type": "code",
      "execution_count": null,
      "metadata": {
        "colab": {
          "base_uri": "https://localhost:8080/"
        },
        "id": "acrAc-j4viZY",
        "outputId": "8d43065c-45a8-4067-b6f8-d0a6d1102495"
      },
      "outputs": [
        {
          "data": {
            "text/plain": [
              "array([0, 1, 2, 3, 4, 5, 6, 8, 9])"
            ]
          },
          "execution_count": 24,
          "metadata": {},
          "output_type": "execute_result"
        }
      ],
      "source": [
        "# Encontramos los valores únicos del array_4\n",
        "np.unique(array_4)"
      ]
    },
    {
      "cell_type": "code",
      "execution_count": null,
      "metadata": {
        "colab": {
          "base_uri": "https://localhost:8080/"
        },
        "id": "d-pXWguvviZZ",
        "outputId": "42e38798-3e5b-4e78-d885-4f58db72c489"
      },
      "outputs": [
        {
          "data": {
            "text/plain": [
              "array([5, 8, 9, 1, 2])"
            ]
          },
          "execution_count": 25,
          "metadata": {},
          "output_type": "execute_result"
        }
      ],
      "source": [
        "# Extraemos el elemento de índice 1 del array_4\n",
        "array_4[1]"
      ]
    },
    {
      "cell_type": "code",
      "execution_count": null,
      "metadata": {
        "colab": {
          "base_uri": "https://localhost:8080/"
        },
        "id": "cVx_UouPviZa",
        "outputId": "d889c61b-c309-4b54-9a2b-09e55016cd0e"
      },
      "outputs": [
        {
          "data": {
            "text/plain": [
              "array([[3, 8, 8, 8, 0],\n",
              "       [5, 8, 9, 1, 2]])"
            ]
          },
          "execution_count": 26,
          "metadata": {},
          "output_type": "execute_result"
        }
      ],
      "source": [
        "# Extraemos las primeras dos filas del array_4\n",
        "array_4[:2]"
      ]
    },
    {
      "cell_type": "code",
      "execution_count": null,
      "metadata": {
        "colab": {
          "base_uri": "https://localhost:8080/"
        },
        "id": "rIsVaI-JviZa",
        "outputId": "5eb17f08-6d82-4555-e12b-f994c770af3e"
      },
      "outputs": [
        {
          "data": {
            "text/plain": [
              "array([[3, 8],\n",
              "       [5, 8]])"
            ]
          },
          "execution_count": 27,
          "metadata": {},
          "output_type": "execute_result"
        }
      ],
      "source": [
        "# Extraemos los dos primeros datos de las primeras dos filas del array_4\n",
        "array_4[:2,:2]"
      ]
    },
    {
      "cell_type": "markdown",
      "metadata": {
        "id": "NQCDyaqp9_Gt"
      },
      "source": [
        "### Operaciones aritméticas entre ndarrays y escalares"
      ]
    },
    {
      "cell_type": "code",
      "execution_count": null,
      "metadata": {
        "id": "bevbqcTR9_Gt"
      },
      "outputs": [],
      "source": [
        "array = np.array([1, 2, 3, 4, 5, 6], dtype=np.float64)"
      ]
    },
    {
      "cell_type": "code",
      "execution_count": null,
      "metadata": {
        "id": "4Bnfq80U9_Gt"
      },
      "outputs": [],
      "source": [
        "# Suma\n",
        "array + 5"
      ]
    },
    {
      "cell_type": "code",
      "execution_count": null,
      "metadata": {
        "id": "YVC31WBk9_Gu"
      },
      "outputs": [],
      "source": [
        "# Resta\n",
        "array - 2"
      ]
    },
    {
      "cell_type": "code",
      "execution_count": null,
      "metadata": {
        "id": "rXQ-9aBX9_Gu"
      },
      "outputs": [],
      "source": [
        "# Multiplicación\n",
        "array * 3"
      ]
    },
    {
      "cell_type": "code",
      "execution_count": null,
      "metadata": {
        "id": "atpfRG419_Gu"
      },
      "outputs": [],
      "source": [
        "# División\n",
        "1 / array"
      ]
    },
    {
      "cell_type": "code",
      "execution_count": null,
      "metadata": {
        "id": "Kq3D1tSF9_Gu"
      },
      "outputs": [],
      "source": [
        "# División entera\n",
        "array // 2"
      ]
    },
    {
      "cell_type": "code",
      "execution_count": null,
      "metadata": {
        "id": "VwJX25Jl9_Gu"
      },
      "outputs": [],
      "source": [
        "# Potencia\n",
        "array ** 2"
      ]
    },
    {
      "cell_type": "code",
      "execution_count": null,
      "metadata": {
        "id": "3sw4JCF6viZb"
      },
      "outputs": [],
      "source": [
        "# Creamos dos arrays de tamaño 3x4: uno relleno de números aleatorios entre 0 y 10, y otro relleno de unos\n",
        "array_5 = np.random.randint(0,10,(3,4))\n",
        "array_6 = np.ones((3,4))"
      ]
    },
    {
      "cell_type": "code",
      "execution_count": null,
      "metadata": {
        "colab": {
          "base_uri": "https://localhost:8080/"
        },
        "id": "kVas2wqdviZb",
        "outputId": "9b2baef9-bc91-41c5-be84-eb5a1d1f91d2"
      },
      "outputs": [
        {
          "data": {
            "text/plain": [
              "array([[3, 0, 5, 3],\n",
              "       [3, 6, 7, 2],\n",
              "       [7, 8, 5, 7]])"
            ]
          },
          "execution_count": 29,
          "metadata": {},
          "output_type": "execute_result"
        }
      ],
      "source": [
        "# invocamos el array_5\n",
        "array_5"
      ]
    },
    {
      "cell_type": "code",
      "execution_count": null,
      "metadata": {
        "colab": {
          "base_uri": "https://localhost:8080/"
        },
        "id": "ZnZoUjRIviZb",
        "outputId": "13d483b8-9b73-4006-b66e-fafd9df3b8ef"
      },
      "outputs": [
        {
          "data": {
            "text/plain": [
              "array([[1., 1., 1., 1.],\n",
              "       [1., 1., 1., 1.],\n",
              "       [1., 1., 1., 1.]])"
            ]
          },
          "execution_count": 30,
          "metadata": {},
          "output_type": "execute_result"
        }
      ],
      "source": [
        "# invocamos el array_6\n",
        "array_6"
      ]
    },
    {
      "cell_type": "code",
      "execution_count": null,
      "metadata": {
        "colab": {
          "base_uri": "https://localhost:8080/"
        },
        "id": "EoBkbsHqviZb",
        "outputId": "370914df-0cae-4bdd-ed3f-8f37e9e3f033"
      },
      "outputs": [
        {
          "data": {
            "text/plain": [
              "array([[4., 1., 6., 4.],\n",
              "       [4., 7., 8., 3.],\n",
              "       [8., 9., 6., 8.]])"
            ]
          },
          "execution_count": 31,
          "metadata": {},
          "output_type": "execute_result"
        }
      ],
      "source": [
        "# Sumamos los dos arrays\n",
        "array_5 + array_6"
      ]
    },
    {
      "cell_type": "code",
      "execution_count": null,
      "metadata": {
        "id": "493z2XKFviZc"
      },
      "outputs": [],
      "source": [
        "# Creamos ahora un array de tamaño (4,3) lleno de unos\n",
        "array_7 = np.ones((4,3))"
      ]
    },
    {
      "cell_type": "markdown",
      "metadata": {
        "id": "ey2jXmep7OZK"
      },
      "source": []
    },
    {
      "cell_type": "code",
      "execution_count": null,
      "metadata": {
        "colab": {
          "base_uri": "https://localhost:8080/",
          "height": 183
        },
        "id": "f19RtdoYviZc",
        "outputId": "f3fb81fd-60e3-4370-c5bf-026327c2603b"
      },
      "outputs": [
        {
          "ename": "ValueError",
          "evalue": "ignored",
          "output_type": "error",
          "traceback": [
            "\u001b[0;31m---------------------------------------------------------------------------\u001b[0m",
            "\u001b[0;31mValueError\u001b[0m                                Traceback (most recent call last)",
            "\u001b[0;32m<ipython-input-33-e74e21a61c65>\u001b[0m in \u001b[0;36m<cell line: 2>\u001b[0;34m()\u001b[0m\n\u001b[1;32m      1\u001b[0m \u001b[0;31m# Intentaremos sumar los arrays 6 y 7\u001b[0m\u001b[0;34m\u001b[0m\u001b[0;34m\u001b[0m\u001b[0m\n\u001b[0;32m----> 2\u001b[0;31m \u001b[0marray_6\u001b[0m \u001b[0;34m+\u001b[0m \u001b[0marray_7\u001b[0m\u001b[0;34m\u001b[0m\u001b[0;34m\u001b[0m\u001b[0m\n\u001b[0m",
            "\u001b[0;31mValueError\u001b[0m: operands could not be broadcast together with shapes (3,4) (4,3) "
          ]
        }
      ],
      "source": [
        "# Intentaremos sumar los arrays 6 y 7\n",
        "array_6 + array_7"
      ]
    },
    {
      "cell_type": "markdown",
      "metadata": {
        "id": "wZKsfqU4viZc"
      },
      "source": [
        "¿A qué se debe el error anterior? ¿Qué deberíamos tener en cuenta para que no suceda?"
      ]
    },
    {
      "cell_type": "code",
      "execution_count": null,
      "metadata": {
        "id": "obwyxLmWviZc"
      },
      "outputs": [],
      "source": [
        "# Entonces crearemos otro array de tamaño (4,3) lleno de unos\n",
        "array_8 = np.ones((4,3))"
      ]
    },
    {
      "cell_type": "code",
      "execution_count": null,
      "metadata": {
        "colab": {
          "base_uri": "https://localhost:8080/"
        },
        "id": "JyBEsQ5NviZd",
        "outputId": "a1d5a7b9-dd6a-43c4-bf68-7602079ae220"
      },
      "outputs": [
        {
          "data": {
            "text/plain": [
              "array([[0., 0., 0.],\n",
              "       [0., 0., 0.],\n",
              "       [0., 0., 0.],\n",
              "       [0., 0., 0.]])"
            ]
          },
          "execution_count": 35,
          "metadata": {},
          "output_type": "execute_result"
        }
      ],
      "source": [
        "# Restamos el array_8 al array_7\n",
        "array_8 - array_7"
      ]
    },
    {
      "cell_type": "code",
      "execution_count": null,
      "metadata": {
        "id": "utZb5NTzviZd"
      },
      "outputs": [],
      "source": [
        "# Creamos otros dos arrays de tamaño 3x3 con números aleatorios del 1 al 5\n",
        "array_9 = np.random.randint(1,5,(3,3))\n",
        "array_10 = np.random.randint(1,5,(3,3))"
      ]
    },
    {
      "cell_type": "code",
      "execution_count": null,
      "metadata": {
        "colab": {
          "base_uri": "https://localhost:8080/"
        },
        "id": "u1vV-B5C2vSk",
        "outputId": "f2559351-cc37-4985-f065-fabd35d4315a"
      },
      "outputs": [
        {
          "data": {
            "text/plain": [
              "array([[2, 3, 4],\n",
              "       [1, 4, 4],\n",
              "       [2, 3, 4]])"
            ]
          },
          "execution_count": 37,
          "metadata": {},
          "output_type": "execute_result"
        }
      ],
      "source": [
        "# invocamos el array_9\n",
        "array_9"
      ]
    },
    {
      "cell_type": "code",
      "execution_count": null,
      "metadata": {
        "colab": {
          "base_uri": "https://localhost:8080/"
        },
        "id": "79rO6fGL2wvE",
        "outputId": "e130a7e5-b35f-44d3-8d8e-1fc1d7e399b8"
      },
      "outputs": [
        {
          "data": {
            "text/plain": [
              "array([[2, 1, 4],\n",
              "       [4, 1, 2],\n",
              "       [2, 4, 1]])"
            ]
          },
          "execution_count": 38,
          "metadata": {},
          "output_type": "execute_result"
        }
      ],
      "source": [
        "# invocamos el array_10\n",
        "array_10"
      ]
    },
    {
      "cell_type": "code",
      "execution_count": null,
      "metadata": {
        "colab": {
          "base_uri": "https://localhost:8080/"
        },
        "id": "ZhBCrrbKviZd",
        "outputId": "3c2ee43c-f3bc-4482-9c18-468a94200846"
      },
      "outputs": [
        {
          "data": {
            "text/plain": [
              "array([[ 4,  3, 16],\n",
              "       [ 4,  4,  8],\n",
              "       [ 4, 12,  4]])"
            ]
          },
          "execution_count": 39,
          "metadata": {},
          "output_type": "execute_result"
        }
      ],
      "source": [
        "# Multiplicamos los últimos dos arrays entre sí\n",
        "array_9 * array_10"
      ]
    },
    {
      "cell_type": "code",
      "execution_count": null,
      "metadata": {
        "colab": {
          "base_uri": "https://localhost:8080/"
        },
        "id": "-u-zydBZviZd",
        "outputId": "713f3a82-5ff3-48a3-b73e-0a583e847eec"
      },
      "outputs": [
        {
          "data": {
            "text/plain": [
              "array([[ 4,  9, 16],\n",
              "       [ 1, 16, 16],\n",
              "       [ 4,  9, 16]])"
            ]
          },
          "execution_count": 40,
          "metadata": {},
          "output_type": "execute_result"
        }
      ],
      "source": [
        "# Elevamos el array_9 al cuadrado\n",
        "array_9**2"
      ]
    },
    {
      "cell_type": "code",
      "execution_count": null,
      "metadata": {
        "colab": {
          "base_uri": "https://localhost:8080/"
        },
        "id": "dMEqsjSD3D6F",
        "outputId": "b4e2d734-edf0-4f8b-d767-7d4d8da66460"
      },
      "outputs": [
        {
          "data": {
            "text/plain": [
              "array([[1.41421356, 1.        , 2.        ],\n",
              "       [2.        , 1.        , 1.41421356],\n",
              "       [1.41421356, 2.        , 1.        ]])"
            ]
          },
          "execution_count": 41,
          "metadata": {},
          "output_type": "execute_result"
        }
      ],
      "source": [
        "# Buscamos la raíz cuadrada del array_10\n",
        "np.sqrt(array_10)"
      ]
    },
    {
      "cell_type": "code",
      "execution_count": null,
      "metadata": {
        "colab": {
          "base_uri": "https://localhost:8080/"
        },
        "id": "4TlMFRRFviZd",
        "outputId": "d04a43cf-2ee6-4576-ecd9-8b3a2778641a"
      },
      "outputs": [
        {
          "data": {
            "text/plain": [
              "3.0"
            ]
          },
          "execution_count": 42,
          "metadata": {},
          "output_type": "execute_result"
        }
      ],
      "source": [
        "# Hallamos el promedio de los valores del array_9\n",
        "array_9.mean()"
      ]
    },
    {
      "cell_type": "markdown",
      "metadata": {
        "id": "WCv_IgwR8dYI"
      },
      "source": []
    },
    {
      "cell_type": "code",
      "execution_count": null,
      "metadata": {
        "colab": {
          "base_uri": "https://localhost:8080/"
        },
        "id": "mu1-ASw7viZd",
        "outputId": "205385eb-439c-4564-c5fd-839a5d885e01"
      },
      "outputs": [
        {
          "data": {
            "text/plain": [
              "4"
            ]
          },
          "execution_count": 43,
          "metadata": {},
          "output_type": "execute_result"
        }
      ],
      "source": [
        "# Hallamos el valor máximo de los valores del array_9\n",
        "array_9.max()"
      ]
    },
    {
      "cell_type": "code",
      "execution_count": null,
      "metadata": {
        "colab": {
          "base_uri": "https://localhost:8080/"
        },
        "id": "iKAPHmnVviZe",
        "outputId": "4125d6bc-4da0-40e5-df9c-83c53df73ed8"
      },
      "outputs": [
        {
          "data": {
            "text/plain": [
              "1"
            ]
          },
          "execution_count": 44,
          "metadata": {},
          "output_type": "execute_result"
        }
      ],
      "source": [
        "# Hallamos el valor mínimo de los valores del array_9\n",
        "array_9.min()"
      ]
    },
    {
      "cell_type": "code",
      "execution_count": null,
      "metadata": {
        "id": "K2N9WX6dviZe"
      },
      "outputs": [],
      "source": [
        "# Cambiamos la forma del array_9 por una de 9x1, y lo almacenamos como array_11\n",
        "array_11 = array_9.reshape((9,1))"
      ]
    },
    {
      "cell_type": "code",
      "execution_count": null,
      "metadata": {
        "colab": {
          "base_uri": "https://localhost:8080/"
        },
        "id": "YM2wKMOk3vrJ",
        "outputId": "16b3147c-b3b5-4e83-9129-56272692d880"
      },
      "outputs": [
        {
          "data": {
            "text/plain": [
              "array([[2],\n",
              "       [3],\n",
              "       [4],\n",
              "       [1],\n",
              "       [4],\n",
              "       [4],\n",
              "       [2],\n",
              "       [3],\n",
              "       [4]])"
            ]
          },
          "execution_count": 46,
          "metadata": {},
          "output_type": "execute_result"
        }
      ],
      "source": [
        "# invocamos el array_11\n",
        "array_11"
      ]
    },
    {
      "cell_type": "code",
      "execution_count": null,
      "metadata": {
        "colab": {
          "base_uri": "https://localhost:8080/"
        },
        "id": "hjv049niviZe",
        "outputId": "5da4dc8e-5c1a-4ef2-ef4f-6cd7a4b552bb"
      },
      "outputs": [
        {
          "data": {
            "text/plain": [
              "array([[2, 3, 4, 1, 4, 4, 2, 3, 4]])"
            ]
          },
          "execution_count": 47,
          "metadata": {},
          "output_type": "execute_result"
        }
      ],
      "source": [
        "# Transponemos el array_11\n",
        "array_11.T"
      ]
    },
    {
      "cell_type": "code",
      "execution_count": null,
      "metadata": {
        "colab": {
          "base_uri": "https://localhost:8080/"
        },
        "id": "ygIkkZcwviZg",
        "outputId": "e0373cc4-486f-4bd9-d7a0-294320a68e78"
      },
      "outputs": [
        {
          "data": {
            "text/plain": [
              "array([[False,  True, False],\n",
              "       [False,  True,  True],\n",
              "       [False, False,  True]])"
            ]
          },
          "execution_count": 48,
          "metadata": {},
          "output_type": "execute_result"
        }
      ],
      "source": [
        "# Comparamos el array_9 y el array_10, para saber cuáles elementos del array_9 son mayores a los del array_10\n",
        "array_12 = array_9 > array_10\n",
        "array_12"
      ]
    },
    {
      "cell_type": "markdown",
      "metadata": {
        "id": "-MNVhc50viZg"
      },
      "source": [
        "¿Qué tipos de datos forman parte del array de resultados?"
      ]
    },
    {
      "cell_type": "code",
      "execution_count": null,
      "metadata": {
        "colab": {
          "base_uri": "https://localhost:8080/"
        },
        "id": "JRRyJjDdEUd4",
        "outputId": "73d3c35a-3a68-40a9-a910-6c710066c5ae"
      },
      "outputs": [
        {
          "data": {
            "text/plain": [
              "dtype('bool')"
            ]
          },
          "execution_count": 49,
          "metadata": {},
          "output_type": "execute_result"
        }
      ],
      "source": [
        "# Veamos sus nuevos tipos de datos\n",
        "array_12.dtype"
      ]
    },
    {
      "cell_type": "code",
      "execution_count": null,
      "metadata": {
        "colab": {
          "base_uri": "https://localhost:8080/"
        },
        "id": "toyvK5rYviZh",
        "outputId": "517b726a-c852-4e8e-912e-6d67124d13a6"
      },
      "outputs": [
        {
          "data": {
            "text/plain": [
              "array([[ True, False,  True],\n",
              "       [False, False, False],\n",
              "       [ True, False, False]])"
            ]
          },
          "execution_count": 50,
          "metadata": {},
          "output_type": "execute_result"
        }
      ],
      "source": [
        "# Alguno de los elementos del array_9 es igual su equivalente del array_10?\n",
        "array_9 == array_10"
      ]
    },
    {
      "cell_type": "code",
      "execution_count": null,
      "metadata": {
        "colab": {
          "base_uri": "https://localhost:8080/"
        },
        "id": "FXguC1-UviZg",
        "outputId": "0c3031e1-e67e-475a-9a16-63d07ae6e91d"
      },
      "outputs": [
        {
          "data": {
            "text/plain": [
              "array([[ True,  True,  True],\n",
              "       [False,  True,  True],\n",
              "       [ True, False,  True]])"
            ]
          },
          "execution_count": 51,
          "metadata": {},
          "output_type": "execute_result"
        }
      ],
      "source": [
        "# Comparamos nuevamente ambos arrays, en esta ocasión con >=\n",
        "array_9 >= array_10\n"
      ]
    },
    {
      "cell_type": "code",
      "execution_count": null,
      "metadata": {
        "colab": {
          "base_uri": "https://localhost:8080/"
        },
        "id": "Ws2bJ0ZEviZg",
        "outputId": "88e1d1bc-da87-4f80-9e6c-491acb565e72"
      },
      "outputs": [
        {
          "data": {
            "text/plain": [
              "array([[False,  True,  True],\n",
              "       [False,  True,  True],\n",
              "       [False,  True,  True]])"
            ]
          },
          "execution_count": 52,
          "metadata": {},
          "output_type": "execute_result"
        }
      ],
      "source": [
        "# Buscamos los elementos del array_9 que son mayores a 2\n",
        "array_9 > 2"
      ]
    },
    {
      "cell_type": "code",
      "execution_count": null,
      "metadata": {
        "colab": {
          "base_uri": "https://localhost:8080/"
        },
        "id": "z4XeFVsoviZh",
        "outputId": "aeed6dad-e138-4c51-ab02-05eb062a5171"
      },
      "outputs": [
        {
          "data": {
            "text/plain": [
              "array([[2, 3, 4],\n",
              "       [1, 4, 4],\n",
              "       [2, 3, 4]])"
            ]
          },
          "execution_count": 53,
          "metadata": {},
          "output_type": "execute_result"
        }
      ],
      "source": [
        "# Ordenamos de menor a mayor los elementos dentro del array_9\n",
        "np.sort(array_9)"
      ]
    },
    {
      "cell_type": "markdown",
      "metadata": {
        "id": "57Po01a89_Gy"
      },
      "source": [
        "### Indexación y slicing basado en secuencias de enteros - Fancy indexing"
      ]
    },
    {
      "cell_type": "code",
      "execution_count": null,
      "metadata": {
        "id": "BpqT7g8t9_Gy"
      },
      "outputs": [],
      "source": [
        "array = np.empty((8, 4))\n",
        "for i in range(8):\n",
        "    array[i] = i\n",
        "array"
      ]
    },
    {
      "cell_type": "code",
      "execution_count": null,
      "metadata": {
        "id": "g3oXutP69_Gy"
      },
      "outputs": [],
      "source": [
        "# Indexación/slicing de un conjunto (arbitrario) de elementos\n",
        "array[[2, 5]]"
      ]
    },
    {
      "cell_type": "code",
      "execution_count": null,
      "metadata": {
        "id": "HoBclAtW9_Gy"
      },
      "outputs": [],
      "source": [
        "# Indexación/slicing de un conjunto (arbitrario) de elementos (índices negativos)\n",
        "array[[-2, -5]]"
      ]
    },
    {
      "cell_type": "code",
      "execution_count": null,
      "metadata": {
        "id": "xl03NywC9_Gy"
      },
      "outputs": [],
      "source": [
        "array = np.arange(32).reshape((8, 4))\n",
        "array"
      ]
    },
    {
      "cell_type": "markdown",
      "metadata": {
        "id": "pRVNkprn9_Gy"
      },
      "source": [
        "**Axis**\n",
        "\n",
        "Valor 0: Aplicará la función por filas\n",
        "\n",
        "\n",
        "Valor 1: Aplicará la función por columnas"
      ]
    },
    {
      "cell_type": "code",
      "execution_count": null,
      "metadata": {
        "id": "OamzADyO9_Gy"
      },
      "outputs": [],
      "source": [
        "array2.sum(axis=1)"
      ]
    },
    {
      "cell_type": "code",
      "execution_count": null,
      "metadata": {
        "id": "EewRiHJn9_Gy"
      },
      "outputs": [],
      "source": [
        "array2.sum(axis=0)"
      ]
    },
    {
      "cell_type": "markdown",
      "metadata": {
        "id": "mnZEdx_69_Gy"
      },
      "source": [
        "### Operaciones elemento a elemento - Universal functions\n",
        "El primero de los conjuntos de funciones ofrecido por NumPy son las llamadas \"funciones universales\" (o ufuncs) que permiten la realización de operaciones elemento a elemento de un array. En función del número de parámetros encontramos dos tipos de funciones universales."
      ]
    },
    {
      "cell_type": "markdown",
      "metadata": {
        "id": "rIwRvRre9_Gz"
      },
      "source": [
        "#### Funciones unitarias\n",
        "\n",
        "Son aquellas funciones que reciben como parámetro un único ndarray.<br/>\n",
        "<ul>\n",
        "<li><b>abs, fabs:</b> Valor absoluto.</li>\n",
        "<li><b>sqrt:</b> Raíz cuadrada (equivalente a array \\*\\* 0.5).</li>\n",
        "<li><b>square:</b> Potencia al cuadrado (equivalente a array ** 2).</li>\n",
        "<li><b>exp:</b> Potencia de e.</li>\n",
        "<li><b>log, log10, log2, log1p:</b> Logaritmos en distintas bases.</li>\n",
        "<li><b>sign:</b> Signo (+ = 1 / - = -1 / 0 = 0).</li>\n",
        "<li><b>ceil:</b> Techo.</li>\n",
        "<li><b>floor:</b> Suelo.</li>\n",
        "<li><b>rint:</b> Redondeo al entero más cercano.</li>\n",
        "<li><b>modf:</b> Devuelve dos arrays uno con la parte fraccionaria y otro con la parte entera.</li>\n",
        "<li><b>isnan:</b> Devuelve un array booleano indicando si el valor es NaN o no.</li>\n",
        "<li><b>isfinite, isinf:</b> Devuelve un array booleano indicando si el valor es finito o infinito.</li>\n",
        "<li><b>cos, cosh, sin, sinh, tan, tanh:</b> Funciones trigonométricas.</li>\n",
        "<li><b>arccos, arccosh, arcsin, arcsinh, arctan, arctanh:</b> Funciones trigonométricas inversas.</li>\n",
        "<li><b>logical_not:</b> Inverso booleano de todos los valores del array (equivalente a ~(array)).</li>\n",
        "</ul>"
      ]
    },
    {
      "cell_type": "code",
      "execution_count": null,
      "metadata": {
        "id": "qqDUaoZd9_Gz"
      },
      "outputs": [],
      "source": [
        "array = np.array([1, 2, 3, 4, 5])\n",
        "np.abs(array)"
      ]
    },
    {
      "cell_type": "code",
      "execution_count": null,
      "metadata": {
        "id": "ZQkQXFSU9_Gz"
      },
      "outputs": [],
      "source": [
        "np.sign(array)"
      ]
    },
    {
      "cell_type": "code",
      "execution_count": null,
      "metadata": {
        "id": "33oY2XEq9_Gz"
      },
      "outputs": [],
      "source": [
        "np.ceil(array)"
      ]
    },
    {
      "cell_type": "markdown",
      "metadata": {
        "id": "4t3hMVR19_Gz"
      },
      "source": [
        "# Hola otra vez, te saluda Angelo 😁, eres increible si avanzaste hasta aquí, sigue adelante y seamos expertos en Python!! Vamos!!!\n",
        "#### Funciones binarias\n",
        "\n",
        "Son aquellas funciones que reciben como parámetro dos arrays.\n",
        "<ul>\n",
        "<li><b>add:</b> Adición de los elementos de los dos arrays (equivalente a array1 + array2).</li>\n",
        "<li><b>subtract:</b> Resta de los elementos de los dos arrays (equivalente a array1 - array2).</li>\n",
        "<li><b>multiply:</b> Multiplica los elementos de los dos arrays (equivalente a array1 \\* array2).</li>\n",
        "<li><b>divide, floor_divide:</b> Divide los elementos de los dos arrays (equivalente a array1 / (o //) array2).</li>\n",
        "<li><b>power:</b> Eleva los elementos del primer array a las potencias del segundo (equivalente a array1 ** array2).</li>\n",
        "<li><b>maximum, fmax:</b> Calcula el máximo de los dos arrays (elemento a elemento). fmax ignora NaN.</li>\n",
        "<li><b>minimum, fmin:</b> Calcula el mínimo de los dos arrays (elemento a elemento). fmax ignora NaN.</li>\n",
        "<li><b>mod:</b> Calcula el resto de la división de los dos arrays (equivalente a array1 % array2).</li>\n",
        "<li><b>greater, greater_equal, less, less_equal, equal, not_equal:</b> Comparativas sobre los elementos de ambos ndarrays (elemento a elemento).</li>\n",
        "<li><b>logical_and, logical_or, logical_xor:</b> Operaciones booleanas sobre los elementos de ambos ndarrays (elemento a elemento).</li>\n",
        "</ul>"
      ]
    },
    {
      "cell_type": "code",
      "execution_count": null,
      "metadata": {
        "id": "3s4hSMPN9_Gz"
      },
      "outputs": [],
      "source": [
        "array1 = np.random.randn(5, 5)\n",
        "array1"
      ]
    },
    {
      "cell_type": "code",
      "execution_count": null,
      "metadata": {
        "id": "-tvvXHH-9_Gz"
      },
      "outputs": [],
      "source": [
        "array2 = np.random.randn(5, 5)\n",
        "array2"
      ]
    },
    {
      "cell_type": "code",
      "execution_count": null,
      "metadata": {
        "id": "ZbW_9Zp69_Gz"
      },
      "outputs": [],
      "source": [
        "np.minimum(array1, array2)"
      ]
    },
    {
      "cell_type": "code",
      "execution_count": null,
      "metadata": {
        "id": "ypUzIxIN9_Gz"
      },
      "outputs": [],
      "source": [
        "np.divide(array1,array2)"
      ]
    },
    {
      "cell_type": "code",
      "execution_count": null,
      "metadata": {
        "id": "ZGn3O_u89_G0"
      },
      "outputs": [],
      "source": [
        "np.floor_divide(array1,array2)"
      ]
    },
    {
      "cell_type": "markdown",
      "metadata": {
        "id": "LkLYqvn-9_G0"
      },
      "source": [
        "### Selección de elementos de ndarrays en función de una condición\n",
        "NumPy pone a nuestra disposición, a través de la función <b>np.where</b> la posibilidad de generar un array de salida a partir de dos de entrada, estableciendo una máscara booleana que indique si (elemento a elemento) debemos enviar a la salida el elemento del primer ndarray (valor True) o del segundo (valor False)."
      ]
    },
    {
      "cell_type": "code",
      "execution_count": null,
      "metadata": {
        "id": "kmNBo8YA9_G0"
      },
      "outputs": [],
      "source": [
        "array1 = np.random.randn(5, 5)\n",
        "array1"
      ]
    },
    {
      "cell_type": "code",
      "execution_count": null,
      "metadata": {
        "id": "GPv1I69F9_G0"
      },
      "outputs": [],
      "source": [
        "array2 = np.random.randn(5, 5)\n",
        "array2"
      ]
    },
    {
      "cell_type": "code",
      "execution_count": null,
      "metadata": {
        "id": "AFLZ4sA49_G0"
      },
      "outputs": [],
      "source": [
        "# Fusión condicional\n",
        "np.where(array1 < array2, array1, array2)\n",
        "#entendamos esto como, WHERE(SI ESTO SE CUMPLE,DEVUELVE ESTO, SI NO DEVUELVE ESTO)"
      ]
    },
    {
      "cell_type": "code",
      "execution_count": null,
      "metadata": {
        "id": "xxmjNP_Q9_G0"
      },
      "outputs": [],
      "source": [
        "# Anidación de condiciones\n",
        "np.where(array1 < array2, np.where(array1 < 0, 0, array1), array2)\n"
      ]
    },
    {
      "cell_type": "markdown",
      "metadata": {
        "id": "LmSCYi5a9_G0"
      },
      "source": [
        "### Funciones matemáticas y estadísticas\n",
        "\n",
        "NumPy ofrece un amplio conjunto de funciones matemáticas y estadísticas que se pueden aplicar sobre ndarrays. A continuación se pueden encontrar los ejemplos más típicos (hay algunas más que pueden consultarse en la documentación oficial de NumPy).<br/>\n",
        "<ul>\n",
        "<li><b>sum:</b> Suma de elementos.</li>\n",
        "<li><b>mean:</b> Media aritmética de los elementos.</li>\n",
        "<li><b>median:</b> Mediana de los elementos.</li>\n",
        "<li><b>std:</b> Desviación estándar de los elementos.</li>\n",
        "<li><b>var:</b> Varianza de los elementos.</li>\n",
        "<li><b>min:</b> Valor mínimo de los elementos.</li>\n",
        "<li><b>max:</b> Valor máximo de los elementos.</li>\n",
        "<li><b>argmin:</b> Índice del valor mínimo.</li>\n",
        "<li><b>argmax:</b> Índice del valor máximo.</li>\n",
        "<li><b>cumsum:</b> Suma acumulada de los elementos.</li>\n",
        "<li><b>cumprod:</b> Producto acumulado de los elementos.</li>\n",
        "</ul>\n",
        "\n",
        "Todas estas funciones pueden recibir, además del ndarray sobre el que se aplicarán, un segundo parámetro llamado <b>axis</b>. Si no se recibe este parámetro las funciones se aplicarán sobre el conjunto global de los elementos del ndarray, pero si se incluye, podrá tomar dos valores:\n",
        "<ul>\n",
        "<li>Valor 0: Aplicará la función por filas</li>\n",
        "<li>Valor 1: Aplicará la función por columnas</li>"
      ]
    },
    {
      "cell_type": "code",
      "execution_count": null,
      "metadata": {
        "id": "ihfa5jyA9_G0"
      },
      "outputs": [],
      "source": [
        "array = np.random.randn(5, 4)\n",
        "array\n"
      ]
    },
    {
      "cell_type": "code",
      "execution_count": null,
      "metadata": {
        "id": "vcf0wIJd9_G0"
      },
      "outputs": [],
      "source": [
        "# Operación global\n",
        "np.sum(array)"
      ]
    },
    {
      "cell_type": "code",
      "execution_count": null,
      "metadata": {
        "id": "a7DRBGoC9_G0"
      },
      "outputs": [],
      "source": [
        "# Operación por filas\n",
        "np.sum(array, axis=0)"
      ]
    },
    {
      "cell_type": "code",
      "execution_count": null,
      "metadata": {
        "id": "8_5J9tuI9_G1"
      },
      "outputs": [],
      "source": [
        "# Operación por columnas\n",
        "np.sum(array, axis=1)"
      ]
    },
    {
      "cell_type": "markdown",
      "metadata": {
        "id": "6CP4cd-N9_G1"
      },
      "source": [
        "NumPy también pone a nuestra disposición dos funciones de chequeo predefinidas sobre ndarrays booleanos:<br/>\n",
        "<ul>\n",
        "<li><b>any:</b> Para comprobar si alguno de los elementos es True.</li>\n",
        "<li><b>all:</b> Para comprobar si todos los elementos son True.</li>\n",
        "</ul>"
      ]
    },
    {
      "cell_type": "code",
      "execution_count": null,
      "metadata": {
        "id": "IfWjFRBD9_G1"
      },
      "outputs": [],
      "source": [
        "# Alguno de los elementos cumple la condición\n",
        "(array == 0).any()"
      ]
    },
    {
      "cell_type": "code",
      "execution_count": null,
      "metadata": {
        "id": "kkIzt4c59_G1"
      },
      "outputs": [],
      "source": [
        "# Todos los elementos cumplen la condición\n",
        "((array >= -2) & (array <= 2)).all()"
      ]
    },
    {
      "cell_type": "markdown",
      "metadata": {
        "id": "iTx153qF9_G1"
      },
      "source": [
        "### Ordenación de ndarrays"
      ]
    },
    {
      "cell_type": "code",
      "execution_count": null,
      "metadata": {
        "id": "d-5PGq8u9_G1"
      },
      "outputs": [],
      "source": [
        "array = np.random.randn(5, 5)\n",
        "array"
      ]
    },
    {
      "cell_type": "code",
      "execution_count": null,
      "metadata": {
        "id": "wk06yI589_G1"
      },
      "outputs": [],
      "source": [
        "# Datos ordenados\n",
        "np.sort(array)"
      ]
    },
    {
      "cell_type": "code",
      "execution_count": null,
      "metadata": {
        "id": "iadDHnjy9_G1"
      },
      "outputs": [],
      "source": [
        "# Datos ordenados según el primer eje\n",
        "np.sort(array, axis=0)"
      ]
    },
    {
      "cell_type": "markdown",
      "metadata": {
        "id": "kM1yFNlM9_G1"
      },
      "source": [
        "### Funciones de conjunto\n",
        "\n",
        "NumPy permite realizar tratamientos sobre un ndarray asumiendo que el total de los elementos del mismo forman un conjunto.<br/>\n",
        "<ul>\n",
        "<li><b>unique:</b> Calcula el conjunto único de elementos sin duplicados.</li>\n",
        "<li><b>intersect1d:</b> Calcula la intersección de los elementos de dos arrays.</li>\n",
        "<li><b>union1d:</b> Calcula la unión de los elementos de dos arays.</li>\n",
        "<li><b>in1d:</b> Calcula un array booleano que indica si cada elemento del primer array está contenido en el segundo.</li>\n",
        "<li><b>setdiff1d:</b> Calcula la diferencia entre ambos conjuntos.</li>\n",
        "<li><b>setxor1d:</b> Calcula la diferencia simétrica entre ambos conjuntos.</li>\n",
        "</ul>"
      ]
    },
    {
      "cell_type": "code",
      "execution_count": null,
      "metadata": {
        "id": "PgiusaJ59_G1"
      },
      "outputs": [],
      "source": [
        "array1 = np.array([6, 0, 0, 0, 3, 2, 5, 6])\n",
        "array1"
      ]
    },
    {
      "cell_type": "code",
      "execution_count": null,
      "metadata": {
        "id": "p6YwFiqN9_G1"
      },
      "outputs": [],
      "source": [
        "array2 = np.array([7, 4, 3, 1, 2, 6, 5])\n",
        "array2"
      ]
    },
    {
      "cell_type": "code",
      "execution_count": null,
      "metadata": {
        "id": "UtWZN01f9_G2"
      },
      "outputs": [],
      "source": [
        "np.unique(array1)"
      ]
    },
    {
      "cell_type": "code",
      "execution_count": null,
      "metadata": {
        "id": "ko5WiPSR9_G2"
      },
      "outputs": [],
      "source": [
        "np.union1d(array1, array2)"
      ]
    },
    {
      "cell_type": "code",
      "execution_count": null,
      "metadata": {
        "id": "3QsZR5f69_G2"
      },
      "outputs": [],
      "source": [
        "np.in1d(array1, array2)"
      ]
    },
    {
      "cell_type": "markdown",
      "metadata": {
        "id": "zsniMRbw9_G2"
      },
      "source": [
        "# Eres impresionante 😮, estas devorándote todo Numpy, serás un PRO 🤯! Te felicito, sigue adelante ✨"
      ]
    },
    {
      "cell_type": "markdown",
      "metadata": {
        "id": "nWouoMRm9_G2"
      },
      "source": [
        "### Álgebra lineal\n",
        "\n",
        "Hasta el momento hemos visto cómo aplicar funciones \"elemento a elemento\" a matrices multidimensionales pero, en ningún caso, hemos aplicado funciones de cálculo matricial sobre las mismas. NumPy ofrece un amplio conjunto de funciones que permiten realizar multitud de tratamientos/operaciones matriciales. Todas estas funciones están disponibles a través del submódulo <b>linalg</b>."
      ]
    },
    {
      "cell_type": "code",
      "execution_count": null,
      "metadata": {
        "id": "8ti1Fyff9_G2"
      },
      "outputs": [],
      "source": [
        "import numpy as np\n",
        "import numpy.linalg as linalg"
      ]
    },
    {
      "cell_type": "markdown",
      "metadata": {
        "id": "PyVFDyfs9_G2"
      },
      "source": [
        "Algunas de las más comunes son:<br/>\n",
        "<ul>\n",
        "<li><b>diag:</b> Recupera la diagonal principal del ndarray pasado como parámetro.</li>\n",
        "<li><b>dot:</b> Realiza el producto escalar de dos ndarray.</li>\n",
        "<li><b>trace:</b> Calcula la suma de los elementos de la diagonal principal.</li>\n",
        "<li><b>det:</b> Calcula el determinante de un ndarray.</li>\n",
        "<li><b>eig:</b> Calcula los autovalores y autovectores de un ndarray.</li>\n",
        "<li><b>inv:</b> Calcula la inversa de una matriz.</li>\n",
        "<li><b>qr:</b> Calcula la descomposición QR de una matriz.</li>\n",
        "<li><b>svd:</b> Calcula la descomposición de valores singulares (Singular Value Decomposition) de una matriz.</li>\n",
        "<li><b>solve:</b> Calcula el resultado del sistema lineal Ax = B donde A y B son las matrices de entrada y x la salida.</li>\n",
        "<li><b>lstsq:</b> Calcula la solución de mínimos cuadrados a y = Xb, donde y y b son los parámetros de entrada y X la salida.</li>\n",
        "</ul>"
      ]
    },
    {
      "cell_type": "code",
      "execution_count": null,
      "metadata": {
        "id": "1zk2Wkjw9_G2"
      },
      "outputs": [],
      "source": [
        "array1 = np.random.randn(3, 3)\n",
        "array1"
      ]
    },
    {
      "cell_type": "code",
      "execution_count": null,
      "metadata": {
        "id": "-gu4Abhv9_G2"
      },
      "outputs": [],
      "source": [
        "np.diag(array1)"
      ]
    },
    {
      "cell_type": "code",
      "execution_count": null,
      "metadata": {
        "id": "T_7ZVzsC9_G2"
      },
      "outputs": [],
      "source": [
        "array = np.arange(9).reshape(3, 3)\n",
        "array"
      ]
    },
    {
      "cell_type": "code",
      "execution_count": null,
      "metadata": {
        "id": "QWKM78Mo9_G2"
      },
      "outputs": [],
      "source": [
        "np.dot(array, array)"
      ]
    },
    {
      "cell_type": "code",
      "execution_count": null,
      "metadata": {
        "id": "cMEqXp839_G3"
      },
      "outputs": [],
      "source": [
        "linalg.inv(array1)"
      ]
    },
    {
      "cell_type": "code",
      "execution_count": null,
      "metadata": {
        "id": "TrOHCTPS9_G3"
      },
      "outputs": [],
      "source": [
        "linalg.solve(array1,array)"
      ]
    },
    {
      "cell_type": "code",
      "execution_count": null,
      "metadata": {
        "id": "98p9vNs-9_G3"
      },
      "outputs": [],
      "source": [
        "q, r = linalg.qr(array)\n",
        "print(q)\n",
        "print('\\n')\n",
        "print(r)"
      ]
    },
    {
      "cell_type": "markdown",
      "metadata": {
        "id": "rIpBEZXa9_G3"
      },
      "source": [
        "# Hola soy Angelo y quería decirte que ya estamos por terminar este repaso de Numpy, te deseo éxitos y practica, PRACTICA!, siempre es necesario para no olvidar los aprendido, continuemos 📢"
      ]
    },
    {
      "cell_type": "markdown",
      "metadata": {
        "id": "uSjvqg0z9_G3"
      },
      "source": [
        "### Generación de números aleatorios\n",
        "\n",
        "Aunque el core de Pyhton incluye un modulo <b>random</b> para llevar a cabo la generación de números aleatorios, NumPy ofrece una mejora sobre el mismo permitiendo generar directamente ndarrays de valores aleatorios en base a diversas distribuciones. Todas estas funciones están disponibles a través del submódulo <b>random</b>.<br/>"
      ]
    },
    {
      "cell_type": "code",
      "execution_count": null,
      "metadata": {
        "id": "MmOobf4Z9_G3"
      },
      "outputs": [],
      "source": [
        "import numpy as np\n",
        "import numpy.random as random"
      ]
    },
    {
      "cell_type": "markdown",
      "metadata": {
        "id": "gLWsAq5g9_G3"
      },
      "source": [
        "Algunas de las más comunes son:\n",
        "<ul>\n",
        "<li><b>seed:</b> Establecimiento de semilla del generador de números aleatorios.</li>\n",
        "<li><b>permutation:</b> Devuelve una permutación aleatoria de una secuencia de entrada (por copia).</li>\n",
        "<li><b>shuffle:</b> Aplica una permutación aleatoria sobre los elementos de la secuencia de entrada (sin copia).</li>\n",
        "<li><b>rand:</b> Genera una muestra de números aleatorios utilizando una distribución uniforme.</li>\n",
        "<li><b>randint:</b> Genera una muestra de números aleatorios enteros dentro de un rango definido.</li>\n",
        "<li><b>randn:</b> Genera una muestra de números aleatorios utilizando una distribución normal de media 0 y desviación 1.</li>\n",
        "<li><b>binomial:</b> Genera una muestra de números aleatorios utilizando una distribución binomial.</li>\n",
        "<li><b>normal:</b> Genera una muestra de números aleatorios utilizando una distribución normal.</li>\n",
        "<li><b>beta:</b> Genera una muestra de números aleatorios utilizando una distribución beta.</li>\n",
        "<li><b>chisquare:</b> Genera una muestra de números aleatorios utilizando una distribución chi cuadrado.</li>\n",
        "<li><b>gamma:</b> Genera una muestra de números aleatorios utilizando una distribución gamma.</li>\n",
        "<li><b>uniform:</b> Genera una muestra de números aleatorios utilizando una distribución uniforme [0, 1).</li>\n",
        "\n",
        "\n",
        "</ul>"
      ]
    },
    {
      "cell_type": "code",
      "execution_count": null,
      "metadata": {
        "id": "wdikd-Wa9_G3"
      },
      "outputs": [],
      "source": [
        "random.seed(42)"
      ]
    },
    {
      "cell_type": "code",
      "execution_count": null,
      "metadata": {
        "id": "SVp-KTHZ9_G3"
      },
      "outputs": [],
      "source": [
        "random.rand()"
      ]
    },
    {
      "cell_type": "code",
      "execution_count": null,
      "metadata": {
        "id": "z1iMuwe59_G3"
      },
      "outputs": [],
      "source": [
        "random.randn(5)"
      ]
    },
    {
      "cell_type": "code",
      "execution_count": null,
      "metadata": {
        "id": "avVuy3cS9_G3"
      },
      "outputs": [],
      "source": [
        "random.binomial(1, 0.5, 10)"
      ]
    },
    {
      "cell_type": "code",
      "execution_count": null,
      "metadata": {
        "id": "zKUgAAGC9_G4"
      },
      "outputs": [],
      "source": [
        "array_per = np.arange(9)\n",
        "random.permutation(array_per)\n",
        "array_per\n"
      ]
    },
    {
      "cell_type": "code",
      "execution_count": null,
      "metadata": {
        "id": "T1XNEqyf9_G4"
      },
      "outputs": [],
      "source": [
        "random.shuffle(array_per)\n",
        "array_per"
      ]
    },
    {
      "cell_type": "markdown",
      "metadata": {
        "id": "WU422c-a9_G4"
      },
      "source": [
        "# TERMINAMOS 🎈, FELICIDADES Y NO DEJES DE PRACTICAR, SEAMOS MEJORES CADA DÍA!😎"
      ]
    }
  ],
  "metadata": {
    "colab": {
      "provenance": [],
      "include_colab_link": true
    },
    "kernelspec": {
      "display_name": "Python 3",
      "name": "python3"
    },
    "language_info": {
      "name": "python"
    }
  },
  "nbformat": 4,
  "nbformat_minor": 0
}